{
 "cells": [
  {
   "cell_type": "code",
   "execution_count": 1,
   "id": "b8692d14",
   "metadata": {},
   "outputs": [],
   "source": [
    "import nltk\n",
    "from wordcloud import WordCloud\n",
    "from sklearn.metrics import accuracy_score\n",
    "from sklearn.linear_model import LogisticRegression\n",
    "from nltk import word_tokenize\n",
    "from keras.preprocessing.text import Tokenizer\n",
    "from nltk.stem.porter import PorterStemmer\n",
    "import re\n",
    "from sklearn.feature_extraction.text import TfidfVectorizer ,ENGLISH_STOP_WORDS\n",
    "import matplotlib.pyplot as plt\n",
    "from sklearn.model_selection import train_test_split\n",
    "import seaborn as sns\n",
    "from bs4 import BeautifulSoup\n",
    "from tqdm import tqdm\n",
    "from nltk.corpus import stopwords\n",
    "from nltk.stem import WordNetLemmatizer\n",
    "from nltk.stem import SnowballStemmer\n",
    "from keras.preprocessing.sequence import pad_sequences\n",
    "from keras.models import Model, Sequential\n",
    "from keras.layers import Dense , Input , LSTM , Embedding, Dropout , Activation, GRU, Flatten\n",
    "import keras"
   ]
  },
  {
   "cell_type": "code",
   "execution_count": 2,
   "id": "b1ed8484",
   "metadata": {
    "scrolled": false
   },
   "outputs": [
    {
     "data": {
      "text/html": [
       "<div>\n",
       "<style scoped>\n",
       "    .dataframe tbody tr th:only-of-type {\n",
       "        vertical-align: middle;\n",
       "    }\n",
       "\n",
       "    .dataframe tbody tr th {\n",
       "        vertical-align: top;\n",
       "    }\n",
       "\n",
       "    .dataframe thead th {\n",
       "        text-align: right;\n",
       "    }\n",
       "</style>\n",
       "<table border=\"1\" class=\"dataframe\">\n",
       "  <thead>\n",
       "    <tr style=\"text-align: right;\">\n",
       "      <th></th>\n",
       "      <th>Id</th>\n",
       "      <th>ProductId</th>\n",
       "      <th>UserId</th>\n",
       "      <th>ProfileName</th>\n",
       "      <th>HelpfulnessNumerator</th>\n",
       "      <th>HelpfulnessDenominator</th>\n",
       "      <th>Score</th>\n",
       "      <th>Time</th>\n",
       "      <th>Summary</th>\n",
       "      <th>Text</th>\n",
       "    </tr>\n",
       "  </thead>\n",
       "  <tbody>\n",
       "    <tr>\n",
       "      <th>0</th>\n",
       "      <td>1</td>\n",
       "      <td>B001E4KFG0</td>\n",
       "      <td>A3SGXH7AUHU8GW</td>\n",
       "      <td>delmartian</td>\n",
       "      <td>1</td>\n",
       "      <td>1</td>\n",
       "      <td>5</td>\n",
       "      <td>1303862400</td>\n",
       "      <td>Good Quality Dog Food</td>\n",
       "      <td>I have bought several of the Vitality canned d...</td>\n",
       "    </tr>\n",
       "    <tr>\n",
       "      <th>1</th>\n",
       "      <td>2</td>\n",
       "      <td>B00813GRG4</td>\n",
       "      <td>A1D87F6ZCVE5NK</td>\n",
       "      <td>dll pa</td>\n",
       "      <td>0</td>\n",
       "      <td>0</td>\n",
       "      <td>1</td>\n",
       "      <td>1346976000</td>\n",
       "      <td>Not as Advertised</td>\n",
       "      <td>Product arrived labeled as Jumbo Salted Peanut...</td>\n",
       "    </tr>\n",
       "    <tr>\n",
       "      <th>2</th>\n",
       "      <td>3</td>\n",
       "      <td>B000LQOCH0</td>\n",
       "      <td>ABXLMWJIXXAIN</td>\n",
       "      <td>Natalia Corres \"Natalia Corres\"</td>\n",
       "      <td>1</td>\n",
       "      <td>1</td>\n",
       "      <td>4</td>\n",
       "      <td>1219017600</td>\n",
       "      <td>\"Delight\" says it all</td>\n",
       "      <td>This is a confection that has been around a fe...</td>\n",
       "    </tr>\n",
       "    <tr>\n",
       "      <th>3</th>\n",
       "      <td>4</td>\n",
       "      <td>B000UA0QIQ</td>\n",
       "      <td>A395BORC6FGVXV</td>\n",
       "      <td>Karl</td>\n",
       "      <td>3</td>\n",
       "      <td>3</td>\n",
       "      <td>2</td>\n",
       "      <td>1307923200</td>\n",
       "      <td>Cough Medicine</td>\n",
       "      <td>If you are looking for the secret ingredient i...</td>\n",
       "    </tr>\n",
       "    <tr>\n",
       "      <th>4</th>\n",
       "      <td>5</td>\n",
       "      <td>B006K2ZZ7K</td>\n",
       "      <td>A1UQRSCLF8GW1T</td>\n",
       "      <td>Michael D. Bigham \"M. Wassir\"</td>\n",
       "      <td>0</td>\n",
       "      <td>0</td>\n",
       "      <td>5</td>\n",
       "      <td>1350777600</td>\n",
       "      <td>Great taffy</td>\n",
       "      <td>Great taffy at a great price.  There was a wid...</td>\n",
       "    </tr>\n",
       "  </tbody>\n",
       "</table>\n",
       "</div>"
      ],
      "text/plain": [
       "   Id   ProductId          UserId                      ProfileName  \\\n",
       "0   1  B001E4KFG0  A3SGXH7AUHU8GW                       delmartian   \n",
       "1   2  B00813GRG4  A1D87F6ZCVE5NK                           dll pa   \n",
       "2   3  B000LQOCH0   ABXLMWJIXXAIN  Natalia Corres \"Natalia Corres\"   \n",
       "3   4  B000UA0QIQ  A395BORC6FGVXV                             Karl   \n",
       "4   5  B006K2ZZ7K  A1UQRSCLF8GW1T    Michael D. Bigham \"M. Wassir\"   \n",
       "\n",
       "   HelpfulnessNumerator  HelpfulnessDenominator  Score        Time  \\\n",
       "0                     1                       1      5  1303862400   \n",
       "1                     0                       0      1  1346976000   \n",
       "2                     1                       1      4  1219017600   \n",
       "3                     3                       3      2  1307923200   \n",
       "4                     0                       0      5  1350777600   \n",
       "\n",
       "                 Summary                                               Text  \n",
       "0  Good Quality Dog Food  I have bought several of the Vitality canned d...  \n",
       "1      Not as Advertised  Product arrived labeled as Jumbo Salted Peanut...  \n",
       "2  \"Delight\" says it all  This is a confection that has been around a fe...  \n",
       "3         Cough Medicine  If you are looking for the secret ingredient i...  \n",
       "4            Great taffy  Great taffy at a great price.  There was a wid...  "
      ]
     },
     "execution_count": 2,
     "metadata": {},
     "output_type": "execute_result"
    }
   ],
   "source": [
    "import numpy as np \n",
    "import pandas as pd\n",
    "\n",
    "df = pd.read_csv('Reviews.csv')\n",
    "\n",
    "df.head()"
   ]
  },
  {
   "cell_type": "markdown",
   "id": "fceafd4d",
   "metadata": {},
   "source": [
    "# Examining the dataset"
   ]
  },
  {
   "cell_type": "code",
   "execution_count": 3,
   "id": "bedaed78",
   "metadata": {},
   "outputs": [
    {
     "data": {
      "text/html": [
       "<div>\n",
       "<style scoped>\n",
       "    .dataframe tbody tr th:only-of-type {\n",
       "        vertical-align: middle;\n",
       "    }\n",
       "\n",
       "    .dataframe tbody tr th {\n",
       "        vertical-align: top;\n",
       "    }\n",
       "\n",
       "    .dataframe thead th {\n",
       "        text-align: right;\n",
       "    }\n",
       "</style>\n",
       "<table border=\"1\" class=\"dataframe\">\n",
       "  <thead>\n",
       "    <tr style=\"text-align: right;\">\n",
       "      <th></th>\n",
       "      <th>Id</th>\n",
       "      <th>Score</th>\n",
       "      <th>Text</th>\n",
       "    </tr>\n",
       "  </thead>\n",
       "  <tbody>\n",
       "    <tr>\n",
       "      <th>0</th>\n",
       "      <td>1</td>\n",
       "      <td>5</td>\n",
       "      <td>I have bought several of the Vitality canned d...</td>\n",
       "    </tr>\n",
       "    <tr>\n",
       "      <th>1</th>\n",
       "      <td>2</td>\n",
       "      <td>1</td>\n",
       "      <td>Product arrived labeled as Jumbo Salted Peanut...</td>\n",
       "    </tr>\n",
       "    <tr>\n",
       "      <th>2</th>\n",
       "      <td>3</td>\n",
       "      <td>4</td>\n",
       "      <td>This is a confection that has been around a fe...</td>\n",
       "    </tr>\n",
       "    <tr>\n",
       "      <th>3</th>\n",
       "      <td>4</td>\n",
       "      <td>2</td>\n",
       "      <td>If you are looking for the secret ingredient i...</td>\n",
       "    </tr>\n",
       "    <tr>\n",
       "      <th>4</th>\n",
       "      <td>5</td>\n",
       "      <td>5</td>\n",
       "      <td>Great taffy at a great price.  There was a wid...</td>\n",
       "    </tr>\n",
       "    <tr>\n",
       "      <th>...</th>\n",
       "      <td>...</td>\n",
       "      <td>...</td>\n",
       "      <td>...</td>\n",
       "    </tr>\n",
       "    <tr>\n",
       "      <th>568449</th>\n",
       "      <td>568450</td>\n",
       "      <td>5</td>\n",
       "      <td>Great for sesame chicken..this is a good if no...</td>\n",
       "    </tr>\n",
       "    <tr>\n",
       "      <th>568450</th>\n",
       "      <td>568451</td>\n",
       "      <td>2</td>\n",
       "      <td>I'm disappointed with the flavor. The chocolat...</td>\n",
       "    </tr>\n",
       "    <tr>\n",
       "      <th>568451</th>\n",
       "      <td>568452</td>\n",
       "      <td>5</td>\n",
       "      <td>These stars are small, so you can give 10-15 o...</td>\n",
       "    </tr>\n",
       "    <tr>\n",
       "      <th>568452</th>\n",
       "      <td>568453</td>\n",
       "      <td>5</td>\n",
       "      <td>These are the BEST treats for training and rew...</td>\n",
       "    </tr>\n",
       "    <tr>\n",
       "      <th>568453</th>\n",
       "      <td>568454</td>\n",
       "      <td>5</td>\n",
       "      <td>I am very satisfied ,product is as advertised,...</td>\n",
       "    </tr>\n",
       "  </tbody>\n",
       "</table>\n",
       "<p>568454 rows × 3 columns</p>\n",
       "</div>"
      ],
      "text/plain": [
       "            Id  Score                                               Text\n",
       "0            1      5  I have bought several of the Vitality canned d...\n",
       "1            2      1  Product arrived labeled as Jumbo Salted Peanut...\n",
       "2            3      4  This is a confection that has been around a fe...\n",
       "3            4      2  If you are looking for the secret ingredient i...\n",
       "4            5      5  Great taffy at a great price.  There was a wid...\n",
       "...        ...    ...                                                ...\n",
       "568449  568450      5  Great for sesame chicken..this is a good if no...\n",
       "568450  568451      2  I'm disappointed with the flavor. The chocolat...\n",
       "568451  568452      5  These stars are small, so you can give 10-15 o...\n",
       "568452  568453      5  These are the BEST treats for training and rew...\n",
       "568453  568454      5  I am very satisfied ,product is as advertised,...\n",
       "\n",
       "[568454 rows x 3 columns]"
      ]
     },
     "execution_count": 3,
     "metadata": {},
     "output_type": "execute_result"
    }
   ],
   "source": [
    "df.drop(['ProductId', 'UserId','ProfileName','HelpfulnessNumerator','HelpfulnessDenominator','Time','Summary'], axis=1)"
   ]
  },
  {
   "cell_type": "code",
   "execution_count": 4,
   "id": "417def13",
   "metadata": {},
   "outputs": [
    {
     "data": {
      "text/plain": [
       "0"
      ]
     },
     "execution_count": 4,
     "metadata": {},
     "output_type": "execute_result"
    }
   ],
   "source": [
    "#Checking for null values\n",
    "df['Score'].isnull().sum()"
   ]
  },
  {
   "cell_type": "code",
   "execution_count": 5,
   "id": "eb18608e",
   "metadata": {},
   "outputs": [
    {
     "data": {
      "text/plain": [
       "5    363122\n",
       "4     80655\n",
       "1     52268\n",
       "3     42640\n",
       "2     29769\n",
       "Name: Score, dtype: int64"
      ]
     },
     "execution_count": 5,
     "metadata": {},
     "output_type": "execute_result"
    }
   ],
   "source": [
    "#checking count of labels\n",
    "df['Score'].value_counts()"
   ]
  },
  {
   "cell_type": "code",
   "execution_count": 6,
   "id": "0e480dc6",
   "metadata": {},
   "outputs": [
    {
     "data": {
      "text/plain": [
       "5    63.878871\n",
       "4    14.188483\n",
       "1     9.194763\n",
       "3     7.501047\n",
       "2     5.236835\n",
       "Name: Score, dtype: float64"
      ]
     },
     "execution_count": 6,
     "metadata": {},
     "output_type": "execute_result"
    }
   ],
   "source": [
    "rating_prec = df['Score'].value_counts()/len(df) * 100\n",
    "rating_prec"
   ]
  },
  {
   "cell_type": "code",
   "execution_count": 7,
   "id": "b015e73b",
   "metadata": {},
   "outputs": [
    {
     "name": "stderr",
     "output_type": "stream",
     "text": [
      "C:\\Users\\masen\\anaconda3\\lib\\site-packages\\seaborn\\_decorators.py:36: FutureWarning: Pass the following variable as a keyword arg: x. From version 0.12, the only valid positional argument will be `data`, and passing other arguments without an explicit keyword will result in an error or misinterpretation.\n",
      "  warnings.warn(\n"
     ]
    },
    {
     "data": {
      "text/plain": [
       "<AxesSubplot:xlabel='Score', ylabel='count'>"
      ]
     },
     "execution_count": 7,
     "metadata": {},
     "output_type": "execute_result"
    },
    {
     "data": {
      "image/png": "[encoded data removed]",
      "text/plain": [
       "<Figure size 432x288 with 1 Axes>"
      ]
     },
     "metadata": {
      "needs_background": "light"
     },
     "output_type": "display_data"
    }
   ],
   "source": [
    "sns.countplot(df['Score'])"
   ]
  },
  {
   "cell_type": "code",
   "execution_count": 8,
   "id": "01eef1ad",
   "metadata": {},
   "outputs": [
    {
     "name": "stderr",
     "output_type": "stream",
     "text": [
      "C:\\Users\\masen\\anaconda3\\lib\\site-packages\\seaborn\\distributions.py:2557: FutureWarning: `distplot` is a deprecated function and will be removed in a future version. Please adapt your code to use either `displot` (a figure-level function with similar flexibility) or `histplot` (an axes-level function for histograms).\n",
      "  warnings.warn(msg, FutureWarning)\n"
     ]
    },
    {
     "data": {
      "text/plain": [
       "<AxesSubplot:xlabel='Text', ylabel='Density'>"
      ]
     },
     "execution_count": 8,
     "metadata": {},
     "output_type": "execute_result"
    },
    {
     "data": {
      "image/png": "[encoded data removed]",
      "text/plain": [
       "<Figure size 432x288 with 1 Axes>"
      ]
     },
     "metadata": {
      "needs_background": "light"
     },
     "output_type": "display_data"
    }
   ],
   "source": [
    "# finding length of texts\n",
    "lens = df['Text'].str.len()\n",
    "sns.distplot(lens)"
   ]
  },
  {
   "cell_type": "code",
   "execution_count": 9,
   "id": "15a7c9ea",
   "metadata": {},
   "outputs": [
    {
     "data": {
      "text/plain": [
       "302.0"
      ]
     },
     "execution_count": 9,
     "metadata": {},
     "output_type": "execute_result"
    }
   ],
   "source": [
    "np.median(df['Text'].str.len())"
   ]
  },
  {
   "cell_type": "markdown",
   "id": "a39ef7c4",
   "metadata": {},
   "source": [
    "# Data Preprocessing"
   ]
  },
  {
   "cell_type": "code",
   "execution_count": 10,
   "id": "e89199e5",
   "metadata": {},
   "outputs": [],
   "source": [
    "def apply_sentiment(Rating):\n",
    "    if(Rating <=2 ):\n",
    "        return 0\n",
    "    else:\n",
    "        return 1"
   ]
  },
  {
   "cell_type": "code",
   "execution_count": 11,
   "id": "d520b83b",
   "metadata": {},
   "outputs": [
    {
     "data": {
      "text/plain": [
       "0         1\n",
       "1         0\n",
       "2         1\n",
       "3         0\n",
       "4         1\n",
       "         ..\n",
       "568449    1\n",
       "568450    0\n",
       "568451    1\n",
       "568452    1\n",
       "568453    1\n",
       "Name: Score, Length: 568454, dtype: int64"
      ]
     },
     "execution_count": 11,
     "metadata": {},
     "output_type": "execute_result"
    }
   ],
   "source": [
    "Y = df['Score'].apply(apply_sentiment)\n",
    "Y"
   ]
  },
  {
   "cell_type": "code",
   "execution_count": 12,
   "id": "be0f9dd6",
   "metadata": {},
   "outputs": [],
   "source": [
    "import re\n",
    "def clean_text(text):\n",
    "    text = re.sub(r\"won\\'t\", \"will not\", text)\n",
    "    text = re.sub(r\"can\\'t\", \"can not\", text)\n",
    "    text = re.sub(r\"n\\'t\", \" not\", text)\n",
    "    text = re.sub(r\"\\'re\", \" are\", text)\n",
    "    text = re.sub(r\"\\'s\", \" is\", text)\n",
    "    text = re.sub(r\"\\'d\", \" would\", text)\n",
    "    text = re.sub(r\"\\'ll\", \" will\", text)\n",
    "    text = re.sub(r\"\\'t\", \" not\", text)\n",
    "    text = re.sub(r\"\\'ve\", \" have\", text)\n",
    "    text = re.sub(r\"\\'m\", \" am\", text)\n",
    "    return text"
   ]
  },
  {
   "cell_type": "code",
   "execution_count": 13,
   "id": "b1cde028",
   "metadata": {},
   "outputs": [],
   "source": [
    "stop_words = set(stopwords.words('english'))\n",
    "negative_stop_words = set(word for word in stop_words if \"n't\" in word or 'no' in word)\n",
    "stop_words = stop_words - negative_stop_words"
   ]
  },
  {
   "cell_type": "code",
   "execution_count": 14,
   "id": "20694c74",
   "metadata": {},
   "outputs": [],
   "source": [
    "stemmer = SnowballStemmer(language='english')\n",
    "def preprocess_text(review):\n",
    "    review = re.sub(r\"http\\S+\", \"\", review)             # removing website links\n",
    "    review = BeautifulSoup(review, 'lxml').get_text()   # removing html tags\n",
    "    review =  clean_text(review)                         # decontracting\n",
    "    review = re.sub(\"\\S*\\d\\S*\", \"\", review).strip()     # removing the words with numeric digits\n",
    "    review = re.sub('[^A-Za-z]+', ' ', review)          # removing non-word characters\n",
    "    review = review.lower()                             # converting to lower case\n",
    "    review = [word for word in review.split(\" \") if not word in stop_words] # removing stop words\n",
    "    review = [stemmer.stem(token) for token in review] #Stemming\n",
    "    review = \" \".join(review)\n",
    "    review.strip()\n",
    "    return review\n",
    "df['Text'] = df['Text'].apply(lambda x: preprocess_text(x))"
   ]
  },
  {
   "cell_type": "code",
   "execution_count": 15,
   "id": "83aec948",
   "metadata": {},
   "outputs": [],
   "source": [
    "stemmer = SnowballStemmer(language='english')\n",
    "def preprocess_text(review):\n",
    "    review = re.sub(r\"http\\S+\", \"\", review)             # removing website links\n",
    "    review = BeautifulSoup(review, 'lxml').get_text()   # removing html tags\n",
    "    review = clean_text(review)                         # decontracting\n",
    "    review = re.sub(\"\\S*\\d\\S*\", \"\", review).strip()     # removing the words with numeric digits\n",
    "    review = re.sub('[^A-Za-z]+', ' ', review)          # removing non-word characters\n",
    "    review = review.lower()                             # converting to lower case\n",
    "    review = [word for word in review.split(\" \") if not word in stop_words] # removing stop words\n",
    "    review = [stemmer.stem(token) for token in review] #Stemming\n",
    "    review = \" \".join(review)\n",
    "    review.strip()\n",
    "    return review\n",
    "df['Text'] = df['Text'].apply(lambda x: preprocess_text(x))"
   ]
  },
  {
   "cell_type": "code",
   "execution_count": 16,
   "id": "196a2923",
   "metadata": {},
   "outputs": [
    {
     "data": {
      "text/plain": [
       "0    bought sever vital dog food product found good...\n",
       "1    product arriv label jumbo salt peanut peanut a...\n",
       "2    confect around centuri light pillowi citrus ge...\n",
       "3    look secret ingredi robitussin believ found go...\n",
       "4    great taffi great price wide assort yummi taff...\n",
       "Name: Text, dtype: object"
      ]
     },
     "execution_count": 16,
     "metadata": {},
     "output_type": "execute_result"
    }
   ],
   "source": [
    "df['Text'].head()"
   ]
  },
  {
   "cell_type": "code",
   "execution_count": 17,
   "id": "417ec6f7",
   "metadata": {
    "scrolled": true
   },
   "outputs": [
    {
     "name": "stdout",
     "output_type": "stream",
     "text": [
      "['bought sever vital dog food product found good qualiti product look like stew process meat smell better labrador finicki appreci product better'\n",
      " 'product arriv label jumbo salt peanut peanut actual small size unsalt not sure error vendor intend repr product jumbo'\n",
      " 'confect around centuri light pillowi citrus gelatin nut case filbert cut tini squar liber coat powder sugar tini mouth heaven not chewi flavor high recommend yummi treat familiar stori c lewi lion witch wardrob treat seduc edmund sell brother sister witch'\n",
      " ...\n",
      " 'star small give one train session tri train dog ceaser dog treat made puppi hyper compar ingredi know littl star basic food ingredi without preserv food color sweet potato flavor also not make hand smell like dog food'\n",
      " 'best treat train reward dog good groom lower calori love doggi sweet potato seem favorit wet nose treat'\n",
      " 'satisfi product adverti use cereal raw vinegar general sweetner']\n"
     ]
    }
   ],
   "source": [
    "texts = df.Text.values\n",
    "print(texts)"
   ]
  },
  {
   "cell_type": "markdown",
   "id": "b406b8dc",
   "metadata": {},
   "source": [
    "# Data normalization"
   ]
  },
  {
   "cell_type": "code",
   "execution_count": 18,
   "id": "6dd7a61e",
   "metadata": {},
   "outputs": [],
   "source": [
    "def normalize(score):\n",
    "    return score - 1"
   ]
  },
  {
   "cell_type": "code",
   "execution_count": 19,
   "id": "742be440",
   "metadata": {},
   "outputs": [],
   "source": [
    "df[\"Score\"] = df[\"Score\"].apply(normalize)"
   ]
  },
  {
   "cell_type": "code",
   "execution_count": 20,
   "id": "ada3ad1b",
   "metadata": {},
   "outputs": [],
   "source": [
    "df = df.drop(['Id', 'ProductId', 'UserId', 'ProfileName', 'HelpfulnessNumerator', 'HelpfulnessDenominator', 'Time', 'Summary'], axis=1)"
   ]
  },
  {
   "cell_type": "code",
   "execution_count": 21,
   "id": "804db639",
   "metadata": {},
   "outputs": [],
   "source": [
    "df['Text'].replace('', np.nan, inplace=True)\n",
    "df.dropna(subset=['Text'], inplace=True)"
   ]
  },
  {
   "cell_type": "code",
   "execution_count": 22,
   "id": "cef03b0e",
   "metadata": {},
   "outputs": [
    {
     "data": {
      "text/html": [
       "<div>\n",
       "<style scoped>\n",
       "    .dataframe tbody tr th:only-of-type {\n",
       "        vertical-align: middle;\n",
       "    }\n",
       "\n",
       "    .dataframe tbody tr th {\n",
       "        vertical-align: top;\n",
       "    }\n",
       "\n",
       "    .dataframe thead th {\n",
       "        text-align: right;\n",
       "    }\n",
       "</style>\n",
       "<table border=\"1\" class=\"dataframe\">\n",
       "  <thead>\n",
       "    <tr style=\"text-align: right;\">\n",
       "      <th></th>\n",
       "      <th>Score</th>\n",
       "      <th>Text</th>\n",
       "    </tr>\n",
       "  </thead>\n",
       "  <tbody>\n",
       "    <tr>\n",
       "      <th>0</th>\n",
       "      <td>4</td>\n",
       "      <td>bought sever vital dog food product found good...</td>\n",
       "    </tr>\n",
       "    <tr>\n",
       "      <th>1</th>\n",
       "      <td>0</td>\n",
       "      <td>product arriv label jumbo salt peanut peanut a...</td>\n",
       "    </tr>\n",
       "    <tr>\n",
       "      <th>2</th>\n",
       "      <td>3</td>\n",
       "      <td>confect around centuri light pillowi citrus ge...</td>\n",
       "    </tr>\n",
       "    <tr>\n",
       "      <th>3</th>\n",
       "      <td>1</td>\n",
       "      <td>look secret ingredi robitussin believ found go...</td>\n",
       "    </tr>\n",
       "    <tr>\n",
       "      <th>4</th>\n",
       "      <td>4</td>\n",
       "      <td>great taffi great price wide assort yummi taff...</td>\n",
       "    </tr>\n",
       "  </tbody>\n",
       "</table>\n",
       "</div>"
      ],
      "text/plain": [
       "   Score                                               Text\n",
       "0      4  bought sever vital dog food product found good...\n",
       "1      0  product arriv label jumbo salt peanut peanut a...\n",
       "2      3  confect around centuri light pillowi citrus ge...\n",
       "3      1  look secret ingredi robitussin believ found go...\n",
       "4      4  great taffi great price wide assort yummi taff..."
      ]
     },
     "execution_count": 22,
     "metadata": {},
     "output_type": "execute_result"
    }
   ],
   "source": [
    "df.head()"
   ]
  },
  {
   "cell_type": "code",
   "execution_count": 23,
   "id": "90519590",
   "metadata": {},
   "outputs": [
    {
     "name": "stdout",
     "output_type": "stream",
     "text": [
      "Training data size:  (453674, 2)\n",
      "Test data size:  (113419, 2)\n"
     ]
    }
   ],
   "source": [
    "train_df, test_df = train_test_split(df, test_size = 0.2, random_state = 42)\n",
    "print(\"Training data size: \", train_df.shape)\n",
    "print(\"Test data size: \", test_df.shape)"
   ]
  },
  {
   "cell_type": "markdown",
   "id": "4148866b",
   "metadata": {},
   "source": [
    "# Model Creation"
   ]
  },
  {
   "cell_type": "markdown",
   "id": "1d9aa086",
   "metadata": {},
   "source": [
    "#### Bidirectional LSTM use with embedding layer"
   ]
  },
  {
   "cell_type": "code",
   "execution_count": 24,
   "id": "72ec4258",
   "metadata": {},
   "outputs": [],
   "source": [
    "top_words = 6000\n",
    "tokenizer = Tokenizer(num_words=top_words)\n",
    "tokenizer.fit_on_texts(train_df['Text'])\n",
    "list_tokenized_train = tokenizer.texts_to_sequences(train_df['Text'])\n",
    "\n",
    "vocab_size = len(tokenizer.word_index) + 1\n",
    "max_review_length = 100\n",
    "X_train = pad_sequences(list_tokenized_train, maxlen=max_review_length)\n",
    "y_train = train_df['Score']"
   ]
  },
  {
   "cell_type": "code",
   "execution_count": 25,
   "id": "94e88f7f",
   "metadata": {},
   "outputs": [],
   "source": [
    "from numpy import array, asarray, zeros\n",
    "\n",
    "embeddings_dictionary = dict()\n",
    "\n",
    "glove_file = open('glove.6B.100d.txt', encoding=\"utf8\")\n",
    "\n",
    "for line in glove_file:\n",
    "    records = line.split()\n",
    "    word = records[0]\n",
    "    vector_dimensions = asarray(records[1:], dtype='float32')\n",
    "    embeddings_dictionary[word] = vector_dimensions\n",
    "glove_file.close()\n",
    "\n",
    "embedding_matrix = zeros((vocab_size, 100))\n",
    "for word, index in tokenizer.word_index.items():\n",
    "    embedding_vector = embeddings_dictionary.get(word)\n",
    "    if embedding_vector is not None:\n",
    "        embedding_matrix[index] = embedding_vector"
   ]
  },
  {
   "cell_type": "code",
   "execution_count": 26,
   "id": "c9127307",
   "metadata": {},
   "outputs": [
    {
     "name": "stdout",
     "output_type": "stream",
     "text": [
      "Model: \"sequential\"\n",
      "_________________________________________________________________\n",
      " Layer (type)                Output Shape              Param #   \n",
      "=================================================================\n",
      " embedding (Embedding)       (None, 100, 100)          8012000   \n",
      "                                                                 \n",
      " bidirectional (Bidirectiona  (None, 200)              160800    \n",
      " l)                                                              \n",
      "                                                                 \n",
      " dense (Dense)               (None, 5)                 1005      \n",
      "                                                                 \n",
      "=================================================================\n",
      "Total params: 8,173,805\n",
      "Trainable params: 8,173,805\n",
      "Non-trainable params: 0\n",
      "_________________________________________________________________\n"
     ]
    }
   ],
   "source": [
    "from keras.layers import Bidirectional\n",
    "model = Sequential()\n",
    "model.add(Embedding(vocab_size, 100, weights=[embedding_matrix], input_length=max_review_length))\n",
    "model.add(Bidirectional(LSTM(100)))\n",
    "model.add(Dense(5, activation='softmax'))\n",
    "model.compile(loss='categorical_crossentropy', optimizer='adam', metrics=['accuracy'])\n",
    "model.summary()"
   ]
  },
  {
   "cell_type": "code",
   "execution_count": 27,
   "id": "759c2fca",
   "metadata": {},
   "outputs": [
    {
     "name": "stdout",
     "output_type": "stream",
     "text": [
      "Model: \"sequential_1\"\n",
      "_________________________________________________________________\n",
      " Layer (type)                Output Shape              Param #   \n",
      "=================================================================\n",
      " embedding_1 (Embedding)     (None, 100, 100)          8012000   \n",
      "                                                                 \n",
      " bidirectional_1 (Bidirectio  (None, 200)              121200    \n",
      " nal)                                                            \n",
      "                                                                 \n",
      " dense_1 (Dense)             (None, 5)                 1005      \n",
      "                                                                 \n",
      "=================================================================\n",
      "Total params: 8,134,205\n",
      "Trainable params: 8,134,205\n",
      "Non-trainable params: 0\n",
      "_________________________________________________________________\n"
     ]
    }
   ],
   "source": [
    "from keras.layers import Bidirectional\n",
    "model = Sequential()\n",
    "model.add(Embedding(vocab_size, 100, weights=[embedding_matrix], input_length=max_review_length))\n",
    "model.add(Bidirectional(GRU(100)))\n",
    "model.add(Dense(5, activation='softmax'))\n",
    "model.compile(loss='categorical_crossentropy', optimizer='adam', metrics=['accuracy'])\n",
    "model.summary()"
   ]
  },
  {
   "cell_type": "code",
   "execution_count": 28,
   "id": "2485e85a",
   "metadata": {},
   "outputs": [],
   "source": [
    "top_words = 6000\n",
    "tokenizer = Tokenizer(num_words=top_words)\n",
    "tokenizer.fit_on_texts(train_df['Text'])\n",
    "list_tokenized_train = tokenizer.texts_to_sequences(train_df['Text'])\n",
    "\n",
    "max_review_length = 130\n",
    "X_train = pad_sequences(list_tokenized_train, maxlen=max_review_length)\n",
    "y_train = train_df['Score']"
   ]
  },
  {
   "cell_type": "code",
   "execution_count": 29,
   "id": "07ac9090",
   "metadata": {},
   "outputs": [
    {
     "name": "stdout",
     "output_type": "stream",
     "text": [
      "Model: \"sequential_2\"\n",
      "_________________________________________________________________\n",
      " Layer (type)                Output Shape              Param #   \n",
      "=================================================================\n",
      " embedding_2 (Embedding)     (None, 130, 32)           192032    \n",
      "                                                                 \n",
      " bidirectional_2 (Bidirectio  (None, 200)              106400    \n",
      " nal)                                                            \n",
      "                                                                 \n",
      " dense_2 (Dense)             (None, 5)                 1005      \n",
      "                                                                 \n",
      "=================================================================\n",
      "Total params: 299,437\n",
      "Trainable params: 299,437\n",
      "Non-trainable params: 0\n",
      "_________________________________________________________________\n"
     ]
    }
   ],
   "source": [
    "from keras.layers import Bidirectional\n",
    "embedding_vector_length = 32\n",
    "model = Sequential()\n",
    "model.add(Embedding(top_words+1, embedding_vector_length, input_length=max_review_length))\n",
    "model.add(Bidirectional(LSTM(100)))\n",
    "model.add(Dense(5, activation='softmax'))\n",
    "model.compile(loss='categorical_crossentropy', optimizer='adam', metrics=['accuracy'])\n",
    "model.summary()"
   ]
  },
  {
   "cell_type": "code",
   "execution_count": 30,
   "id": "457d5671",
   "metadata": {},
   "outputs": [],
   "source": [
    "from keras.utils import np_utils\n",
    "y_train =keras.utils.np_utils.to_categorical(y_train)"
   ]
  },
  {
   "cell_type": "code",
   "execution_count": 31,
   "id": "4d91e91b",
   "metadata": {},
   "outputs": [
    {
     "name": "stdout",
     "output_type": "stream",
     "text": [
      "Epoch 1/5\n",
      "2836/2836 [==============================] - 862s 300ms/step - loss: 0.7890 - accuracy: 0.7105 - val_loss: 0.7294 - val_accuracy: 0.7285\n",
      "Epoch 2/5\n",
      "2836/2836 [==============================] - 802s 283ms/step - loss: 0.6983 - accuracy: 0.7403 - val_loss: 0.6940 - val_accuracy: 0.7421\n",
      "Epoch 3/5\n",
      "2836/2836 [==============================] - 819s 289ms/step - loss: 0.6521 - accuracy: 0.7565 - val_loss: 0.6678 - val_accuracy: 0.7518\n",
      "Epoch 4/5\n",
      "2836/2836 [==============================] - 836s 295ms/step - loss: 0.6144 - accuracy: 0.7707 - val_loss: 0.6538 - val_accuracy: 0.7573\n",
      "Epoch 5/5\n",
      "2836/2836 [==============================] - 852s 301ms/step - loss: 0.5830 - accuracy: 0.7837 - val_loss: 0.6418 - val_accuracy: 0.7636\n"
     ]
    }
   ],
   "source": [
    "history = model.fit(X_train, y_train, batch_size=128, epochs=5, verbose=1, validation_split=0.2)"
   ]
  },
  {
   "cell_type": "code",
   "execution_count": 32,
   "id": "007548da",
   "metadata": {},
   "outputs": [
    {
     "name": "stdout",
     "output_type": "stream",
     "text": [
      "Epoch 1/5\n",
      "11342/11342 [==============================] - 1246s 110ms/step - loss: 0.5884 - accuracy: 0.7822 - val_loss: 0.6508 - val_accuracy: 0.7615\n",
      "Epoch 2/5\n",
      "11342/11342 [==============================] - 1291s 114ms/step - loss: 0.5471 - accuracy: 0.7988 - val_loss: 0.6265 - val_accuracy: 0.7748\n",
      "Epoch 3/5\n",
      "11342/11342 [==============================] - 1386s 122ms/step - loss: 0.5094 - accuracy: 0.8148 - val_loss: 0.6279 - val_accuracy: 0.7804\n",
      "Epoch 4/5\n",
      "11342/11342 [==============================] - 1192s 105ms/step - loss: 0.4727 - accuracy: 0.8287 - val_loss: 0.6348 - val_accuracy: 0.7797\n",
      "Epoch 5/5\n",
      "11342/11342 [==============================] - 1259s 111ms/step - loss: 0.4389 - accuracy: 0.8420 - val_loss: 0.6404 - val_accuracy: 0.7822\n"
     ]
    }
   ],
   "source": [
    "history2 = model.fit(X_train, y_train, batch_size=32, epochs=5, verbose=1, validation_split=0.2)"
   ]
  },
  {
   "cell_type": "code",
   "execution_count": 33,
   "id": "1f72c503",
   "metadata": {},
   "outputs": [
    {
     "name": "stdout",
     "output_type": "stream",
     "text": [
      "Epoch 1/5\n",
      "5671/5671 [==============================] - 2321s 409ms/step - loss: 0.3855 - accuracy: 0.8631 - val_loss: 0.6710 - val_accuracy: 0.7852\n",
      "Epoch 2/5\n",
      "5671/5671 [==============================] - 1928s 340ms/step - loss: 0.3588 - accuracy: 0.8736 - val_loss: 0.6874 - val_accuracy: 0.7872\n",
      "Epoch 3/5\n",
      "5671/5671 [==============================] - 1596s 281ms/step - loss: 0.3348 - accuracy: 0.8831 - val_loss: 0.7179 - val_accuracy: 0.7861\n",
      "Epoch 4/5\n",
      "5671/5671 [==============================] - 1517s 268ms/step - loss: 0.3127 - accuracy: 0.8909 - val_loss: 0.7495 - val_accuracy: 0.7886\n",
      "Epoch 5/5\n",
      "5671/5671 [==============================] - 1530s 270ms/step - loss: 0.2947 - accuracy: 0.8982 - val_loss: 0.7796 - val_accuracy: 0.7870\n"
     ]
    }
   ],
   "source": [
    "history3 = model.fit(X_train, y_train, batch_size=64, epochs=5, verbose=1, validation_split=0.2)"
   ]
  },
  {
   "cell_type": "code",
   "execution_count": 34,
   "id": "decf28ac",
   "metadata": {},
   "outputs": [
    {
     "name": "stdout",
     "output_type": "stream",
     "text": [
      "Epoch 1/5\n",
      "22684/22684 [==============================] - 2230s 98ms/step - loss: 0.3552 - accuracy: 0.8735 - val_loss: 0.7368 - val_accuracy: 0.7837\n",
      "Epoch 2/5\n",
      "22684/22684 [==============================] - 2317s 102ms/step - loss: 0.3463 - accuracy: 0.8768 - val_loss: 0.7276 - val_accuracy: 0.7838\n",
      "Epoch 3/5\n",
      "22684/22684 [==============================] - 4055s 179ms/step - loss: 0.3333 - accuracy: 0.8819 - val_loss: 0.7693 - val_accuracy: 0.7771\n",
      "Epoch 4/5\n",
      "22684/22684 [==============================] - 2618s 115ms/step - loss: 0.3217 - accuracy: 0.8861 - val_loss: 0.7449 - val_accuracy: 0.7865\n",
      "Epoch 5/5\n",
      "22684/22684 [==============================] - 2756s 121ms/step - loss: 0.3105 - accuracy: 0.8908 - val_loss: 0.7659 - val_accuracy: 0.7821\n"
     ]
    }
   ],
   "source": [
    "history4 = model.fit(X_train, y_train, batch_size=16, epochs=5, verbose=1, validation_split=0.2)"
   ]
  },
  {
   "cell_type": "code",
   "execution_count": 58,
   "id": "7373aeb1",
   "metadata": {},
   "outputs": [
    {
     "data": {
      "image/png": "[encoded data removed]",
      "text/plain": [
       "<IPython.core.display.Image object>"
      ]
     },
     "execution_count": 58,
     "metadata": {},
     "output_type": "execute_result"
    }
   ],
   "source": [
    "import tensorflow as tf\n",
    "import pydot\n",
    "import graphviz\n",
    "os.environ[\"PATH\"] += os.pathsep + 'C:/Program Files/Graphviz/bin/'\n",
    "from keras.utils.vis_utils import plot_model\n",
    "tf.keras.utils.plot_model(model, to_file='model_plot4a.png', show_shapes=True, show_layer_names=True)"
   ]
  },
  {
   "cell_type": "code",
   "execution_count": 36,
   "id": "2ca50b75",
   "metadata": {},
   "outputs": [
    {
     "name": "stdout",
     "output_type": "stream",
     "text": [
      "3545/3545 [==============================] - 175s 49ms/step - loss: 0.7656 - accuracy: 0.7826\n"
     ]
    },
    {
     "data": {
      "text/plain": [
       "[0.7655892968177795, 0.7826378345489502]"
      ]
     },
     "execution_count": 36,
     "metadata": {},
     "output_type": "execute_result"
    }
   ],
   "source": [
    "#I evaluate the accuracy of the model with the test data\n",
    "list_tokenized_test = tokenizer.texts_to_sequences(test_df['Text'])\n",
    "X_test = pad_sequences(list_tokenized_test, maxlen=max_review_length)\n",
    "y_test = test_df['Score']\n",
    "y_test = keras.utils.np_utils.to_categorical(y_test)\n",
    "prediction = model.predict(X_test)\n",
    "prediction2 = (model.predict(X_test) > 0.5).astype(\"int32\")\n",
    "model.evaluate(X_test, y_test, batch_size=32)"
   ]
  },
  {
   "cell_type": "code",
   "execution_count": 38,
   "id": "0e7b6c78",
   "metadata": {},
   "outputs": [
    {
     "name": "stdout",
     "output_type": "stream",
     "text": [
      "Model Accuracy:  0.7826378296405364\n"
     ]
    }
   ],
   "source": [
    "arr = []\n",
    "for i in prediction:\n",
    "    x = np.argmax(i)\n",
    "    arr.append(x)\n",
    "    \n",
    "arr2 = []\n",
    "for i in y_test:\n",
    "    x = np.argmax(i)\n",
    "    arr2.append(x)\n",
    "\n",
    "print(\"Model Accuracy: \", accuracy_score(arr, arr2))"
   ]
  }
 ],
 "metadata": {
  "kernelspec": {
   "display_name": "Python 3",
   "language": "python",
   "name": "python3"
  },
  "language_info": {
   "codemirror_mode": {
    "name": "ipython",
    "version": 3
   },
   "file_extension": ".py",
   "mimetype": "text/x-python",
   "name": "python",
   "nbconvert_exporter": "python",
   "pygments_lexer": "ipython3",
   "version": "3.8.8"
  }
 },
 "nbformat": 4,
 "nbformat_minor": 5
}
